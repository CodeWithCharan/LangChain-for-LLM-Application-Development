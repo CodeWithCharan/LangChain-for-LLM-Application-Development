{
 "cells": [
  {
   "cell_type": "markdown",
   "id": "d1f571ac-ed37-4246-857e-08fc13367a0f",
   "metadata": {},
   "source": [
    "# Chains in LangChain\n",
    "\n",
    "## Outline\n",
    "\n",
    "* LLMChain\n",
    "* Sequential Chains\n",
    "  * SimpleSequentialChain\n",
    "  * SequentialChain\n",
    "* Router Chain"
   ]
  },
  {
   "cell_type": "code",
   "execution_count": 1,
   "id": "9fb68bc2-6373-4036-9741-ebdbd2bd9b35",
   "metadata": {},
   "outputs": [],
   "source": [
    "import warnings\n",
    "warnings.filterwarnings('ignore')"
   ]
  },
  {
   "cell_type": "code",
   "execution_count": 2,
   "id": "8fe2d3c2-5cef-40ec-a1f4-0acb0a3f1fba",
   "metadata": {},
   "outputs": [
    {
     "data": {
      "text/plain": [
       "True"
      ]
     },
     "execution_count": 2,
     "metadata": {},
     "output_type": "execute_result"
    }
   ],
   "source": [
    "from dotenv import load_dotenv\n",
    "\n",
    "load_dotenv()"
   ]
  },
  {
   "cell_type": "code",
   "execution_count": 3,
   "id": "794e3c4c-96b6-4132-a3e0-85d6bafb8660",
   "metadata": {},
   "outputs": [],
   "source": [
    "import os\n",
    "\n",
    "api_key = os.getenv(\"GOOGLE_API_KEY\")"
   ]
  },
  {
   "cell_type": "markdown",
   "id": "b0e45a53-6833-4583-b2b5-eeda9fde0418",
   "metadata": {},
   "source": [
    "## LLMChain"
   ]
  },
  {
   "cell_type": "code",
   "execution_count": 4,
   "id": "2947abb6-1ac1-468f-800c-191a4dda2520",
   "metadata": {},
   "outputs": [],
   "source": [
    "from langchain_google_genai import ChatGoogleGenerativeAI\n",
    "from langchain.prompts import ChatPromptTemplate\n",
    "from langchain.chains import LLMChain"
   ]
  },
  {
   "cell_type": "code",
   "execution_count": 11,
   "id": "24bea0b5-b837-4981-9b83-fef9d927bc96",
   "metadata": {},
   "outputs": [],
   "source": [
    "chat_model = ChatGoogleGenerativeAI(\n",
    "    google_api_key=api_key,\n",
    "    temperature=0.9,\n",
    "    model=\"gemini-1.5-flash\"\n",
    ")"
   ]
  },
  {
   "cell_type": "code",
   "execution_count": 12,
   "id": "320daec8-d516-482c-a197-16eb4821959f",
   "metadata": {},
   "outputs": [],
   "source": [
    "prompt_template = ChatPromptTemplate.from_template(\n",
    "    \"What is the best name to describe \\\n",
    "    a company that makes {product}?\"\n",
    ")"
   ]
  },
  {
   "cell_type": "code",
   "execution_count": 13,
   "id": "0e7f8b56-52a6-4d43-ade2-a63ccf4d03fb",
   "metadata": {},
   "outputs": [],
   "source": [
    "chain = LLMChain(llm=chat_model, prompt=prompt_template)"
   ]
  },
  {
   "cell_type": "code",
   "execution_count": 14,
   "id": "a8832b2a-56a5-4dbd-b185-c6c303b2ad4e",
   "metadata": {
    "collapsed": true,
    "jupyter": {
     "outputs_hidden": true
    }
   },
   "outputs": [
    {
     "data": {
      "text/plain": [
       "'The best name will depend on your brand\\'s desired image and target audience. Here are some ideas, categorized by approach:\\n\\n**Elegant & Sophisticated:**\\n\\n* Royal Rest\\n* Queen\\'s Comfort\\n* Serene Sheets\\n* The Linen Loft\\n* Slumber Supreme\\n* Luxurious Linens\\n\\n**Simple & Direct:**\\n\\n* Queen Sheet Co.\\n* Queen\\'s Sheets\\n* The Queen\\'s Bed\\n* Simply Queen\\n* Perfect Slumber\\n\\n**Modern & Trendy:**\\n\\n* Cozy Kingdom\\n* Dream Weaver Sheets\\n* Sleep Sanctuary\\n* The Sheet Society\\n* Linen & Lace\\n\\n**Focusing on Quality/Material:**\\n\\n* (Material) Queen Sheets (e.g., Egyptian Cotton Queen Sheets)\\n* Premium Queen Linens\\n* The Finest Sheets\\n\\n**Playful & Unique:**\\n\\n* Queen Bee Sheets (if targeting a younger audience)\\n* Night Owl Linens\\n* Sleepyhead Sheets\\n\\n\\n**Before choosing, consider:**\\n\\n* **Availability:** Check if the name is available as a website domain and social media handle.\\n* **Target audience:**  Who are you trying to reach? A younger audience might respond better to a playful name, while an older audience might prefer something more elegant.\\n* **Brand identity:** What feeling do you want your brand to evoke? Luxury, comfort, affordability?\\n\\n\\nI recommend brainstorming further by combining elements from different categories. For example, \"Cozy Queen\" blends simplicity with a touch of coziness.  Ultimately, the best name will be memorable, relevant, and reflective of your brand.\\n'"
      ]
     },
     "execution_count": 14,
     "metadata": {},
     "output_type": "execute_result"
    }
   ],
   "source": [
    "product = \"Queen Size Sheet Set\"\n",
    "\n",
    "chain.run(product)"
   ]
  },
  {
   "cell_type": "markdown",
   "id": "e5df0846-31cf-4230-9823-f2bb48ce8d37",
   "metadata": {},
   "source": [
    "## SimpleSequentialChain"
   ]
  },
  {
   "cell_type": "code",
   "execution_count": 15,
   "id": "b0f2998d-1c02-4be8-acf9-71b7d5a778f3",
   "metadata": {},
   "outputs": [],
   "source": [
    "from langchain.chains import SimpleSequentialChain"
   ]
  },
  {
   "cell_type": "code",
   "execution_count": 16,
   "id": "c52aa606-2c76-45d2-b4a1-92ede0e16f9a",
   "metadata": {},
   "outputs": [],
   "source": [
    "# prompt template 1\n",
    "first_prompt = ChatPromptTemplate.from_template(\n",
    "    \"What is the best name to describe \\\n",
    "    a company that makes {product}?\"\n",
    ")\n",
    "\n",
    "# Chain 1\n",
    "chain_one = LLMChain(llm=chat_model, prompt=first_prompt)"
   ]
  },
  {
   "cell_type": "code",
   "execution_count": 17,
   "id": "0758d2af-695c-41dd-95db-829a749102e0",
   "metadata": {},
   "outputs": [],
   "source": [
    "# prompt template 2\n",
    "second_prompt = ChatPromptTemplate.from_template(\n",
    "    \"Write a 20 words description for the following \\\n",
    "    company:{company_name}\"\n",
    ")\n",
    "# chain 2\n",
    "chain_two = LLMChain(llm=chat_model, prompt=second_prompt)"
   ]
  },
  {
   "cell_type": "code",
   "execution_count": 18,
   "id": "dc0f42b4-7d1a-473d-9f42-8e120fa89ae6",
   "metadata": {},
   "outputs": [],
   "source": [
    "overall_simple_chain = SimpleSequentialChain(chains=[chain_one, chain_two],\n",
    "                                             verbose=True\n",
    "                                            )"
   ]
  },
  {
   "cell_type": "code",
   "execution_count": 19,
   "id": "98a00672-de0c-4df6-9fe3-98365b918ea8",
   "metadata": {},
   "outputs": [
    {
     "name": "stdout",
     "output_type": "stream",
     "text": [
      "\n",
      "\n",
      "\u001b[1m> Entering new SimpleSequentialChain chain...\u001b[0m\n",
      "\u001b[36;1m\u001b[1;3mThe best name will depend on the company's branding and target audience. Here are some options, categorized by approach:\n",
      "\n",
      "**Elegant & Luxurious:**\n",
      "\n",
      "* Royal Rest\n",
      "* Empress Linens\n",
      "* Sovereign Sheets\n",
      "* Regal Sleep\n",
      "* Velvet Dreams (if the sheets are particularly soft)\n",
      "* The Queen's Chamber\n",
      "\n",
      "**Simple & Straightforward:**\n",
      "\n",
      "* Queen Size Sheets\n",
      "* Queen's Rest\n",
      "* The Sheet Set Company\n",
      "* Cozy Queen\n",
      "* Perfect Slumber\n",
      "\n",
      "**Modern & Catchy:**\n",
      "\n",
      "* Slumber & Co.\n",
      "* Dream Weaver Linens\n",
      "* Sheet Dreams\n",
      "* Restful Nights\n",
      "* The Linen Loft\n",
      "\n",
      "**Focusing on a specific feature (if applicable):**\n",
      "\n",
      "* (e.g., if they're Egyptian cotton)  Nile Nights\n",
      "* (e.g., if they're sustainably sourced)  EcoSlumber\n",
      "* (e.g., if they're exceptionally soft) Cloud Nine Linens\n",
      "\n",
      "\n",
      "**Things to consider when choosing:**\n",
      "\n",
      "* **Availability:** Check for trademark conflicts and domain name availability.\n",
      "* **Memorability:**  Is the name easy to remember and pronounce?\n",
      "* **Target audience:** Does the name appeal to your ideal customer?\n",
      "* **Brand identity:** Does the name reflect the overall brand image you want to project?\n",
      "\n",
      "\n",
      "I recommend brainstorming further based on these categories and considering your specific brand vision.  A short, memorable name is generally preferable.\n",
      "\u001b[0m\n",
      "\u001b[33;1m\u001b[1;3mLuxury bedding for discerning sleepers.  Unparalleled comfort and exquisite craftsmanship.\n",
      "\u001b[0m\n",
      "\n",
      "\u001b[1m> Finished chain.\u001b[0m\n"
     ]
    },
    {
     "data": {
      "text/plain": [
       "'Luxury bedding for discerning sleepers.  Unparalleled comfort and exquisite craftsmanship.\\n'"
      ]
     },
     "execution_count": 19,
     "metadata": {},
     "output_type": "execute_result"
    }
   ],
   "source": [
    "overall_simple_chain.run(product)"
   ]
  },
  {
   "cell_type": "markdown",
   "id": "72ce17ac-4170-4db5-9299-0bbb8ee9830b",
   "metadata": {},
   "source": [
    "## SequentialChain"
   ]
  },
  {
   "cell_type": "code",
   "execution_count": 20,
   "id": "8e58274f-4baa-43af-8af3-a65c89a254d4",
   "metadata": {},
   "outputs": [],
   "source": [
    "from langchain.chains import SequentialChain"
   ]
  },
  {
   "cell_type": "code",
   "execution_count": 27,
   "id": "51505d63-7f3d-491c-8f7e-e3af04fbcc4c",
   "metadata": {},
   "outputs": [
    {
     "data": {
      "text/html": [
       "<div>\n",
       "<style scoped>\n",
       "    .dataframe tbody tr th:only-of-type {\n",
       "        vertical-align: middle;\n",
       "    }\n",
       "\n",
       "    .dataframe tbody tr th {\n",
       "        vertical-align: top;\n",
       "    }\n",
       "\n",
       "    .dataframe thead th {\n",
       "        text-align: right;\n",
       "    }\n",
       "</style>\n",
       "<table border=\"1\" class=\"dataframe\">\n",
       "  <thead>\n",
       "    <tr style=\"text-align: right;\">\n",
       "      <th></th>\n",
       "      <th>Text</th>\n",
       "      <th>Score</th>\n",
       "    </tr>\n",
       "  </thead>\n",
       "  <tbody>\n",
       "    <tr>\n",
       "      <th>0</th>\n",
       "      <td>Habiendo probado un par de otras marcas de gal...</td>\n",
       "      <td>5</td>\n",
       "    </tr>\n",
       "    <tr>\n",
       "      <th>1</th>\n",
       "      <td>Meine Katze liebt diese Leckerlis. Wenn ich si...</td>\n",
       "      <td>5</td>\n",
       "    </tr>\n",
       "    <tr>\n",
       "      <th>2</th>\n",
       "      <td>Un po' meno di quanto mi aspettassi. Tende ad ...</td>\n",
       "      <td>3</td>\n",
       "    </tr>\n",
       "    <tr>\n",
       "      <th>3</th>\n",
       "      <td>First there was Frosted Mini-Wheats, in origin...</td>\n",
       "      <td>2</td>\n",
       "    </tr>\n",
       "    <tr>\n",
       "      <th>4</th>\n",
       "      <td>En ik wil de grafisch ontwerper feliciteren vo...</td>\n",
       "      <td>5</td>\n",
       "    </tr>\n",
       "  </tbody>\n",
       "</table>\n",
       "</div>"
      ],
      "text/plain": [
       "                                                Text  Score\n",
       "0  Habiendo probado un par de otras marcas de gal...      5\n",
       "1  Meine Katze liebt diese Leckerlis. Wenn ich si...      5\n",
       "2  Un po' meno di quanto mi aspettassi. Tende ad ...      3\n",
       "3  First there was Frosted Mini-Wheats, in origin...      2\n",
       "4  En ik wil de grafisch ontwerper feliciteren vo...      5"
      ]
     },
     "execution_count": 27,
     "metadata": {},
     "output_type": "execute_result"
    }
   ],
   "source": [
    "import pandas as pd\n",
    "\n",
    "df = pd.read_csv(\"datasets/sample_data.csv\")\n",
    "\n",
    "df.head()"
   ]
  },
  {
   "cell_type": "markdown",
   "id": "31df037e-8dbe-4717-882c-523d1f3883a2",
   "metadata": {},
   "source": [
    "### Prompt template 1: Translate to English"
   ]
  },
  {
   "cell_type": "code",
   "execution_count": 67,
   "id": "b6250952-7e68-45f0-8d20-e0d695151853",
   "metadata": {},
   "outputs": [],
   "source": [
    "first_prompt = ChatPromptTemplate.from_template(\n",
    "    \"Translate the following review to English:\"\n",
    "    \"\\n\\n{Review}\"\n",
    ")\n",
    "\n",
    "# chain 1: input= Review and output= English_Review\n",
    "chain_one = LLMChain(llm=chat_model, prompt=first_prompt, \n",
    "                     output_key=\"English_Review\"\n",
    "                    )"
   ]
  },
  {
   "cell_type": "markdown",
   "id": "c4970287-8191-4668-88a4-e25a34b13d33",
   "metadata": {},
   "source": [
    "### Prompt template 2: Summarize the review"
   ]
  },
  {
   "cell_type": "code",
   "execution_count": 68,
   "id": "0e6d694e-d1de-410b-bcc7-1c8d9da5bb32",
   "metadata": {},
   "outputs": [],
   "source": [
    "second_prompt = ChatPromptTemplate.from_template(\n",
    "    \"Can you summarize the following review in 1 sentence:\"\n",
    "    \"\\n\\n{English_Review}\"\n",
    ")\n",
    "\n",
    "# chain 2: input= English_Review and output= summary\n",
    "chain_two = LLMChain(llm=chat_model, prompt=second_prompt, \n",
    "                     output_key=\"summary\"\n",
    "                    )"
   ]
  },
  {
   "cell_type": "markdown",
   "id": "28408bd5-a2c8-43d4-afc8-2056bbd9de29",
   "metadata": {},
   "source": [
    "### Prompt template 3: Detect language"
   ]
  },
  {
   "cell_type": "code",
   "execution_count": 69,
   "id": "32abc42d-4d9d-4bc0-9e92-e1c2f3c6b6df",
   "metadata": {},
   "outputs": [],
   "source": [
    "third_prompt = ChatPromptTemplate.from_template(\n",
    "    \"What language is the following review:\\n\\n{Review}\"\n",
    ")\n",
    "\n",
    "# chain 3: input= Review and output= language\n",
    "chain_three = LLMChain(llm=chat_model, prompt=third_prompt,\n",
    "                       output_key=\"language\"\n",
    "                      )"
   ]
  },
  {
   "cell_type": "markdown",
   "id": "1c2c445a-40b5-4c82-a186-71eda9b93e0d",
   "metadata": {},
   "source": [
    "### Prompt template 4: Follow up message"
   ]
  },
  {
   "cell_type": "code",
   "execution_count": 70,
   "id": "f2c4fb7f-cacf-4235-9e70-5eb6bfd801cc",
   "metadata": {
    "jp-MarkdownHeadingCollapsed": true
   },
   "outputs": [],
   "source": [
    "fourth_prompt = ChatPromptTemplate.from_template(\n",
    "    \"Write a follow up response to the following \"\n",
    "    \"summary in the specified language:\"\n",
    "    \"\\n\\nSummary: {summary}\\n\\nLanguage: {language}\"\n",
    ")\n",
    "\n",
    "# chain 4: input= summary, language and output= followup_message\n",
    "chain_four = LLMChain(llm=chat_model, prompt=fourth_prompt,\n",
    "                      output_key=\"followup_message\"\n",
    "                     )"
   ]
  },
  {
   "cell_type": "markdown",
   "id": "d5c09e4d-dfc1-4d27-87a5-7a5b2405eb53",
   "metadata": {},
   "source": [
    "### Overall Chain"
   ]
  },
  {
   "cell_type": "code",
   "execution_count": 71,
   "id": "d7e0d403-8895-4f74-98f1-4da8d11306b0",
   "metadata": {},
   "outputs": [],
   "source": [
    "# overall_chain: input= Review \n",
    "# and output= English_Review, summary, language and followup_message\n",
    "overall_chain = SequentialChain(\n",
    "    chains=[chain_one, chain_two, chain_three, chain_four],\n",
    "    input_variables=[\"Review\"],\n",
    "    output_variables=[\"English_Review\", \"summary\", \"language\", \"followup_message\"],\n",
    "    verbose=True\n",
    ")"
   ]
  },
  {
   "cell_type": "code",
   "execution_count": 72,
   "id": "a7743716-6b58-45b9-b603-12dffaddb1be",
   "metadata": {},
   "outputs": [
    {
     "data": {
      "text/plain": [
       "\"Habiendo probado un par de otras marcas de galletas sándwich sin gluten, estas son las mejores del grupo.Son crujientes y fieles a la textura de las otras galletas 'reales' que no son sin gluten.Algunos podrían pensar que el relleno las hace un poco demasiado dulces,\\\\ \\npero para mí eso solo significa que he satisfecho mi gusto por lo dulce más rápido.La versión de chocolate de Glutino es igual de buena y tiene un verdadero sabor a 'chocolate',\\\\ \\nalgo que no está presente en las otras marcas sin gluten disponibles.\\n\""
      ]
     },
     "execution_count": 72,
     "metadata": {},
     "output_type": "execute_result"
    }
   ],
   "source": [
    "# first review in the dataset\n",
    "review = df['Text'][0]\n",
    "\n",
    "review"
   ]
  },
  {
   "cell_type": "code",
   "execution_count": 79,
   "id": "506eef55-1314-49eb-b3af-bb0c63ed0743",
   "metadata": {},
   "outputs": [
    {
     "name": "stdout",
     "output_type": "stream",
     "text": [
      "\n",
      "\n",
      "\u001b[1m> Entering new SequentialChain chain...\u001b[0m\n",
      "\n",
      "\u001b[1m> Finished chain.\u001b[0m\n"
     ]
    },
    {
     "data": {
      "text/plain": [
       "{'Review': \"Habiendo probado un par de otras marcas de galletas sándwich sin gluten, estas son las mejores del grupo.Son crujientes y fieles a la textura de las otras galletas 'reales' que no son sin gluten.Algunos podrían pensar que el relleno las hace un poco demasiado dulces,\\\\ \\npero para mí eso solo significa que he satisfecho mi gusto por lo dulce más rápido.La versión de chocolate de Glutino es igual de buena y tiene un verdadero sabor a 'chocolate',\\\\ \\nalgo que no está presente en las otras marcas sin gluten disponibles.\\n\",\n",
       " 'English_Review': 'Having tried a couple of other brands of gluten-free sandwich cookies, these are the best of the bunch. They\\'re crunchy and true to the texture of \"real\" non-gluten-free cookies. Some might find the filling a little too sweet, but for me, that just means I satisfied my sweet tooth faster.  Glutino\\'s chocolate version is equally good and has a real chocolate flavor, something lacking in other available gluten-free brands.\\n',\n",
       " 'summary': 'These gluten-free sandwich cookies have a superior crunchy texture to other brands, though some may find the filling overly sweet.\\n',\n",
       " 'language': \"That's Spanish.\\n\",\n",
       " 'followup_message': 'Sí, estoy de acuerdo.  Las galletas son excepcionalmente crujientes,  una textura que realmente destaca entre las opciones sin gluten. Sin embargo,  la dulzura del relleno podría ser un inconveniente para algunos paladares,  quizás un poco excesiva.  En general, una buena opción para quienes buscan una galleta crujiente sin gluten, pero recomiendo probarlas antes de comprar una cantidad grande.\\n'}"
      ]
     },
     "execution_count": 79,
     "metadata": {},
     "output_type": "execute_result"
    }
   ],
   "source": [
    "response = overall_chain.invoke(review)\n",
    "\n",
    "response"
   ]
  },
  {
   "cell_type": "code",
   "execution_count": 80,
   "id": "daf58fa1-5079-4dd6-9ca3-7498b01beb8b",
   "metadata": {},
   "outputs": [
    {
     "data": {
      "text/plain": [
       "\"Habiendo probado un par de otras marcas de galletas sándwich sin gluten, estas son las mejores del grupo.Son crujientes y fieles a la textura de las otras galletas 'reales' que no son sin gluten.Algunos podrían pensar que el relleno las hace un poco demasiado dulces,\\\\ \\npero para mí eso solo significa que he satisfecho mi gusto por lo dulce más rápido.La versión de chocolate de Glutino es igual de buena y tiene un verdadero sabor a 'chocolate',\\\\ \\nalgo que no está presente en las otras marcas sin gluten disponibles.\\n\""
      ]
     },
     "execution_count": 80,
     "metadata": {},
     "output_type": "execute_result"
    }
   ],
   "source": [
    "response['Review']"
   ]
  },
  {
   "cell_type": "code",
   "execution_count": 81,
   "id": "f4aa611a-8cda-4c27-8af5-4018dc3abb48",
   "metadata": {},
   "outputs": [
    {
     "data": {
      "text/plain": [
       "'Having tried a couple of other brands of gluten-free sandwich cookies, these are the best of the bunch. They\\'re crunchy and true to the texture of \"real\" non-gluten-free cookies. Some might find the filling a little too sweet, but for me, that just means I satisfied my sweet tooth faster.  Glutino\\'s chocolate version is equally good and has a real chocolate flavor, something lacking in other available gluten-free brands.\\n'"
      ]
     },
     "execution_count": 81,
     "metadata": {},
     "output_type": "execute_result"
    }
   ],
   "source": [
    "response['English_Review']"
   ]
  },
  {
   "cell_type": "code",
   "execution_count": 82,
   "id": "303966b4-b462-4a81-a09e-ca4ec31bb972",
   "metadata": {},
   "outputs": [
    {
     "data": {
      "text/plain": [
       "'These gluten-free sandwich cookies have a superior crunchy texture to other brands, though some may find the filling overly sweet.\\n'"
      ]
     },
     "execution_count": 82,
     "metadata": {},
     "output_type": "execute_result"
    }
   ],
   "source": [
    "response['summary']"
   ]
  },
  {
   "cell_type": "code",
   "execution_count": 83,
   "id": "d219eb57-fb27-4718-8814-dc65450dae1b",
   "metadata": {},
   "outputs": [
    {
     "data": {
      "text/plain": [
       "\"That's Spanish.\\n\""
      ]
     },
     "execution_count": 83,
     "metadata": {},
     "output_type": "execute_result"
    }
   ],
   "source": [
    "response['language']"
   ]
  },
  {
   "cell_type": "code",
   "execution_count": 84,
   "id": "7b6bbf37-5ce6-4548-8ea5-154ad4823ca6",
   "metadata": {},
   "outputs": [
    {
     "data": {
      "text/plain": [
       "'Sí, estoy de acuerdo.  Las galletas son excepcionalmente crujientes,  una textura que realmente destaca entre las opciones sin gluten. Sin embargo,  la dulzura del relleno podría ser un inconveniente para algunos paladares,  quizás un poco excesiva.  En general, una buena opción para quienes buscan una galleta crujiente sin gluten, pero recomiendo probarlas antes de comprar una cantidad grande.\\n'"
      ]
     },
     "execution_count": 84,
     "metadata": {},
     "output_type": "execute_result"
    }
   ],
   "source": [
    "response['followup_message']"
   ]
  },
  {
   "cell_type": "markdown",
   "id": "dcb37dc0-b0ea-4c12-9df7-6551feefa6cd",
   "metadata": {},
   "source": [
    "`Note:` Followup message is in Spanish, because we specified language as spanish in prompt template 4"
   ]
  },
  {
   "cell_type": "markdown",
   "id": "7921d485-bc92-4e02-b01e-889f1a53c732",
   "metadata": {},
   "source": [
    "## Router Chain"
   ]
  },
  {
   "cell_type": "code",
   "execution_count": 85,
   "id": "30ad16f3-2aad-4064-8aa3-3803025359b9",
   "metadata": {},
   "outputs": [],
   "source": [
    "physics_template = \"\"\"You are a very smart physics professor. \\\n",
    "You are great at answering questions about physics in a concise\\\n",
    "and easy to understand manner. \\\n",
    "When you don't know the answer to a question you admit\\\n",
    "that you don't know.\n",
    "\n",
    "Here is a question:\n",
    "{input}\"\"\"\n",
    "\n",
    "\n",
    "math_template = \"\"\"You are a very good mathematician. \\\n",
    "You are great at answering math questions. \\\n",
    "You are so good because you are able to break down \\\n",
    "hard problems into their component parts, \n",
    "answer the component parts, and then put them together\\\n",
    "to answer the broader question.\n",
    "\n",
    "Here is a question:\n",
    "{input}\"\"\"\n",
    "\n",
    "history_template = \"\"\"You are a very good historian. \\\n",
    "You have an excellent knowledge of and understanding of people,\\\n",
    "events and contexts from a range of historical periods. \\\n",
    "You have the ability to think, reflect, debate, discuss and \\\n",
    "evaluate the past. You have a respect for historical evidence\\\n",
    "and the ability to make use of it to support your explanations \\\n",
    "and judgements.\n",
    "\n",
    "Here is a question:\n",
    "{input}\"\"\"\n",
    "\n",
    "\n",
    "computerscience_template = \"\"\" You are a successful computer scientist.\\\n",
    "You have a passion for creativity, collaboration,\\\n",
    "forward-thinking, confidence, strong problem-solving capabilities,\\\n",
    "understanding of theories and algorithms, and excellent communication \\\n",
    "skills. You are great at answering coding questions. \\\n",
    "You are so good because you know how to solve a problem by \\\n",
    "describing the solution in imperative steps \\\n",
    "that a machine can easily interpret and you know how to \\\n",
    "choose a solution that has a good balance between \\\n",
    "time complexity and space complexity. \n",
    "\n",
    "Here is a question:\n",
    "{input}\"\"\""
   ]
  },
  {
   "cell_type": "code",
   "execution_count": 86,
   "id": "e00c8c25-0453-4004-ac8a-3bba9bf5b4be",
   "metadata": {},
   "outputs": [],
   "source": [
    "prompt_infos = [\n",
    "    {\n",
    "        \"name\": \"physics\", \n",
    "        \"description\": \"Good for answering questions about physics\", \n",
    "        \"prompt_template\": physics_template\n",
    "    },\n",
    "    {\n",
    "        \"name\": \"math\", \n",
    "        \"description\": \"Good for answering math questions\", \n",
    "        \"prompt_template\": math_template\n",
    "    },\n",
    "    {\n",
    "        \"name\": \"History\", \n",
    "        \"description\": \"Good for answering history questions\", \n",
    "        \"prompt_template\": history_template\n",
    "    },\n",
    "    {\n",
    "        \"name\": \"computer science\", \n",
    "        \"description\": \"Good for answering computer science questions\", \n",
    "        \"prompt_template\": computerscience_template\n",
    "    }\n",
    "]"
   ]
  },
  {
   "cell_type": "code",
   "execution_count": 87,
   "id": "d06184c9-f538-43b0-86ba-6901cb7fb734",
   "metadata": {},
   "outputs": [],
   "source": [
    "from langchain.chains.router import MultiPromptChain\n",
    "from langchain.chains.router.llm_router import LLMRouterChain, RouterOutputParser\n",
    "from langchain.prompts import PromptTemplate"
   ]
  },
  {
   "cell_type": "code",
   "execution_count": 88,
   "id": "c0cc8cc6-3ad3-4c32-877b-5a7f1f9ae83a",
   "metadata": {},
   "outputs": [],
   "source": [
    "destination_chains = {}\n",
    "\n",
    "for p_info in prompt_infos:\n",
    "    name = p_info[\"name\"]\n",
    "    prompt_template = p_info[\"prompt_template\"]\n",
    "    \n",
    "    prompt = ChatPromptTemplate.from_template(template=prompt_template)\n",
    "    chain = LLMChain(llm=chat_model, prompt=prompt)\n",
    "\n",
    "    # add it to the destination dict\n",
    "    destination_chains[name] = chain\n",
    "    \n",
    "destinations = [f\"{p['name']}: {p['description']}\" for p in prompt_infos]\n",
    "destinations_str = \"\\n\".join(destinations)"
   ]
  },
  {
   "cell_type": "code",
   "execution_count": 89,
   "id": "b363656e-fcaf-4a5a-9293-e1dfb71335c3",
   "metadata": {},
   "outputs": [],
   "source": [
    "default_prompt = ChatPromptTemplate.from_template(\"{input}\")\n",
    "default_chain = LLMChain(llm=chat_model, prompt=default_prompt)"
   ]
  },
  {
   "cell_type": "code",
   "execution_count": 90,
   "id": "47042ee8-1115-4f97-8203-22477f93ee69",
   "metadata": {},
   "outputs": [],
   "source": [
    "MULTI_PROMPT_ROUTER_TEMPLATE = \"\"\"Given a raw text input to a \\\n",
    "language model select the model prompt best suited for the input. \\\n",
    "You will be given the names of the available prompts and a \\\n",
    "description of what the prompt is best suited for. \\\n",
    "You may also revise the original input if you think that revising\\\n",
    "it will ultimately lead to a better response from the language model.\n",
    "\n",
    "<< FORMATTING >>\n",
    "Return a markdown code snippet with a JSON object formatted to look like:\n",
    "```json\n",
    "{{{{\n",
    "    \"destination\": string \\ name of the prompt to use or \"DEFAULT\"\n",
    "    \"next_inputs\": string \\ a potentially modified version of the original input\n",
    "}}}}\n",
    "```\n",
    "\n",
    "REMEMBER: \"destination\" MUST be one of the candidate prompt \\\n",
    "names specified below OR it can be \"DEFAULT\" if the input is not\\\n",
    "well suited for any of the candidate prompts.\n",
    "REMEMBER: \"next_inputs\" can just be the original input \\\n",
    "if you don't think any modifications are needed.\n",
    "\n",
    "<< CANDIDATE PROMPTS >>\n",
    "{destinations}\n",
    "\n",
    "<< INPUT >>\n",
    "{{input}}\n",
    "\n",
    "<< OUTPUT (remember to include the ```json)>>\"\"\""
   ]
  },
  {
   "cell_type": "code",
   "execution_count": 94,
   "id": "8add065f-b7d6-4902-a88a-bcb2010b312c",
   "metadata": {},
   "outputs": [],
   "source": [
    "router_template = MULTI_PROMPT_ROUTER_TEMPLATE.format(\n",
    "    destinations = destinations_str\n",
    ")\n",
    "\n",
    "router_prompt = PromptTemplate(\n",
    "    template = router_template,\n",
    "    input_variables = [\"input\"],\n",
    "    output_parser = RouterOutputParser(),\n",
    ")\n",
    "\n",
    "router_chain = LLMRouterChain.from_llm(chat_model, router_prompt)"
   ]
  },
  {
   "cell_type": "code",
   "execution_count": 96,
   "id": "d4849fff-b1de-48dd-9022-0e474257140f",
   "metadata": {},
   "outputs": [],
   "source": [
    "chain = MultiPromptChain(router_chain = router_chain, \n",
    "                         destination_chains = destination_chains, \n",
    "                         default_chain = default_chain,\n",
    "                         verbose=True\n",
    "                        )"
   ]
  },
  {
   "cell_type": "code",
   "execution_count": 104,
   "id": "afed4a97-e2ce-46cb-ad76-e14025d24206",
   "metadata": {},
   "outputs": [
    {
     "name": "stdout",
     "output_type": "stream",
     "text": [
      "\n",
      "\n",
      "\u001b[1m> Entering new MultiPromptChain chain...\u001b[0m\n",
      "physics: {'input': 'What is black body radiation?'}\n",
      "\u001b[1m> Finished chain.\u001b[0m\n"
     ]
    },
    {
     "data": {
      "text/plain": [
       "\"Black body radiation is the electromagnetic radiation emitted by an idealized object called a black body.  A black body absorbs all incident electromagnetic radiation regardless of frequency or angle of incidence.  Because it absorbs all radiation, it also emits radiation at all frequencies, with the intensity of that radiation at each frequency depending only on the black body's temperature.  This emitted radiation follows a specific distribution described by Planck's law.  The hotter the body, the more intense the radiation and the shorter the wavelength of peak emission.\\n\""
      ]
     },
     "execution_count": 104,
     "metadata": {},
     "output_type": "execute_result"
    }
   ],
   "source": [
    "chain.run(\"What is black body radiation?\")"
   ]
  },
  {
   "cell_type": "code",
   "execution_count": 100,
   "id": "d7408e70-6674-4ee5-8df3-b10f2ace69ff",
   "metadata": {},
   "outputs": [
    {
     "name": "stdout",
     "output_type": "stream",
     "text": [
      "\n",
      "\n",
      "\u001b[1m> Entering new MultiPromptChain chain...\u001b[0m\n",
      "math: {'input': 'what is 2 + 2'}\n",
      "\u001b[1m> Finished chain.\u001b[0m\n"
     ]
    },
    {
     "data": {
      "text/plain": [
       "'The problem \"What is 2 + 2?\" is a simple addition problem.\\n\\n**Component Parts:**\\n\\n* The first number is 2.\\n* The second number is 2.\\n* The operation is addition (+).\\n\\n**Solution:**\\n\\nAdding the two numbers together: 2 + 2 = 4\\n\\n**Answer:**\\n\\nThe answer to the question \"What is 2 + 2?\" is $\\\\boxed{4}$.\\n'"
      ]
     },
     "execution_count": 100,
     "metadata": {},
     "output_type": "execute_result"
    }
   ],
   "source": [
    "chain.run(\"what is 2 + 2\")"
   ]
  },
  {
   "cell_type": "code",
   "execution_count": 103,
   "id": "44fd03d1-95bd-4934-a1cc-039cc38f21d2",
   "metadata": {},
   "outputs": [
    {
     "name": "stdout",
     "output_type": "stream",
     "text": [
      "\n",
      "\n",
      "\u001b[1m> Entering new MultiPromptChain chain...\u001b[0m\n",
      "History: {'input': 'Who was Hitler?'}\n",
      "\u001b[1m> Finished chain.\u001b[0m\n"
     ]
    },
    {
     "data": {
      "text/plain": [
       "'Adolf Hitler (1889-1945) was the dictator of Germany from 1933 to 1945, and the central figure of the Nazi Party and the ideology of Nazism.  He was not simply a political leader; he was a transformative figure who fundamentally reshaped German society and instigated a global conflict with devastating consequences.\\n\\nUnderstanding Hitler requires examining him within multiple contexts:\\n\\n**His Personal Background:**  Born in Austria, Hitler\\'s early life was marked by perceived failure and resentment.  His experiences of poverty, artistic aspirations that went unfulfilled, and feelings of national humiliation fueled his intense nationalism and antisemitism. While his personal life was largely devoid of close, genuine relationships, he cultivated a charismatic public persona, exploiting his skills as an orator to connect with a disillusioned populace.  It\\'s crucial to avoid romanticizing his personal struggles, however, as they don\\'t excuse his actions.\\n\\n**The Political Context:** The aftermath of World War I saw Germany grappling with economic devastation, political instability, and a sense of national humiliation stemming from the Treaty of Versailles.  This fertile ground allowed extremist ideologies, including Nazism, to flourish. Hitler expertly exploited these anxieties, promising national rejuvenation and scapegoating minority groups, particularly Jews, Roma, and others deemed \"undesirable.\"  The Weimar Republic\\'s weaknesses, including its own internal divisions and ineffective governance, further contributed to Hitler\\'s rise.\\n\\n**The Ideological Context:** Nazism, the ideology Hitler championed, was a potent blend of extreme nationalism, antisemitism, anti-communism, and a belief in racial superiority.  Hitler\\'s *Mein Kampf* lays bare these beliefs, articulating a vision of a racially pure German state dominating Europe and ultimately the world.  This ideology was not merely a political program; it was a worldview that permeated every aspect of life under his regime.\\n\\n**Hitler\\'s Actions and their Consequences:**  Hitler\\'s actions as Führer led to the systematic persecution and murder of millions in the Holocaust, the initiation of World War II, and immense human suffering on an unprecedented scale.  His regime implemented totalitarian control, suppressing dissent and eliminating any opposition.  His military aggression, driven by expansionist ambitions and the pursuit of *Lebensraum* (\"living space\"), engulfed Europe in a war that cost tens of millions of lives and left much of the continent in ruins.\\n\\n**His Legacy:** Hitler\\'s legacy is one of unparalleled destruction and enduring moral condemnation.  His name is synonymous with genocide, totalitarianism, and the devastating consequences of unchecked power. Studying Hitler is vital not only to understand the horrors of the Holocaust and World War II but also to analyze the dangers of extremism, the fragility of democracy, and the importance of vigilance against hatred and intolerance.  His rise and fall serve as a profound cautionary tale for humanity.\\n\\n\\nIn conclusion, Hitler was not simply a \"bad guy\"; he was a complex figure whose personal background, the socio-political climate of his time, and the deeply flawed ideology he espoused combined to produce one of history\\'s most destructive forces. Understanding this complex interplay is crucial to preventing similar atrocities in the future.\\n'"
      ]
     },
     "execution_count": 103,
     "metadata": {},
     "output_type": "execute_result"
    }
   ],
   "source": [
    "chain.run(\"Who's hitler?\")"
   ]
  },
  {
   "cell_type": "code",
   "execution_count": null,
   "id": "5304e04d-2cfa-476f-a876-2a202c1c2538",
   "metadata": {},
   "outputs": [],
   "source": []
  }
 ],
 "metadata": {
  "kernelspec": {
   "display_name": "langchainenv",
   "language": "python",
   "name": "langchainenv"
  },
  "language_info": {
   "codemirror_mode": {
    "name": "ipython",
    "version": 3
   },
   "file_extension": ".py",
   "mimetype": "text/x-python",
   "name": "python",
   "nbconvert_exporter": "python",
   "pygments_lexer": "ipython3",
   "version": "3.10.16"
  }
 },
 "nbformat": 4,
 "nbformat_minor": 5
}

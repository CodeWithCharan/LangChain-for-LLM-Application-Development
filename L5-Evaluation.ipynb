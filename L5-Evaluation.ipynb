{
 "cells": [
  {
   "cell_type": "markdown",
   "id": "786ba5c9-5191-4636-9fb1-22074ec236e4",
   "metadata": {},
   "source": [
    "## LangChain: Evaluation\n",
    "\n",
    "### Outline:\n",
    "\n",
    "> * Example generation\n",
    "> * Manual evaluation (and debuging)\n",
    "> * LLM-assisted evaluation\n",
    "> * LangChain evaluation platform"
   ]
  },
  {
   "cell_type": "code",
   "execution_count": 1,
   "id": "6cd5858d-7907-4c76-8510-adbd7f062be8",
   "metadata": {},
   "outputs": [],
   "source": [
    "import warnings\n",
    "warnings.filterwarnings('ignore')"
   ]
  },
  {
   "cell_type": "code",
   "execution_count": 3,
   "id": "e8823aeb-360c-418c-8bd5-7ce3d9885932",
   "metadata": {},
   "outputs": [
    {
     "data": {
      "text/plain": [
       "True"
      ]
     },
     "execution_count": 3,
     "metadata": {},
     "output_type": "execute_result"
    }
   ],
   "source": [
    "from dotenv import load_dotenv\n",
    "\n",
    "load_dotenv()"
   ]
  },
  {
   "cell_type": "code",
   "execution_count": 4,
   "id": "32ada635-5dee-47eb-8ecf-e271cebbb0ec",
   "metadata": {},
   "outputs": [],
   "source": [
    "import os\n",
    "\n",
    "api_key = os.getenv(\"GOOGLE_API_KEY\")"
   ]
  },
  {
   "cell_type": "code",
   "execution_count": 6,
   "id": "7b7b794d-ad22-4027-8c4c-0e5ec19bea02",
   "metadata": {},
   "outputs": [],
   "source": [
    "# Chat model\n",
    "from langchain_google_genai import ChatGoogleGenerativeAI\n",
    "\n",
    "from langchain_community.document_loaders.csv_loader import CSVLoader # CSV file loader\n",
    "from langchain_google_genai import GoogleGenerativeAIEmbeddings  # Gemini embedding model\n",
    "from langchain.vectorstores import DocArrayInMemorySearch # vector store/database\n",
    "from langchain.indexes import VectorstoreIndexCreator # indexing for vector stores\n",
    "from langchain.chains import RetrievalQA # for retrieval"
   ]
  },
  {
   "cell_type": "code",
   "execution_count": 10,
   "id": "f13c048e-416a-4353-ae95-ab22c1ed5411",
   "metadata": {},
   "outputs": [],
   "source": [
    "file = \"datasets\\sample_data.csv\"\n",
    "loader = CSVLoader(file_path=file)\n",
    "\n",
    "data = loader.load()"
   ]
  },
  {
   "cell_type": "code",
   "execution_count": 8,
   "id": "3f460f27-f2f5-437d-b282-e1e48ac8e9c1",
   "metadata": {},
   "outputs": [],
   "source": [
    "embeddings = GoogleGenerativeAIEmbeddings(model=\"models/embedding-001\")\n",
    "\n",
    "index = VectorstoreIndexCreator(\n",
    "    vectorstore_cls=DocArrayInMemorySearch,\n",
    "    embedding=embeddings\n",
    ").from_loaders([loader])"
   ]
  },
  {
   "cell_type": "code",
   "execution_count": 9,
   "id": "4ef29fd3-a260-4072-bebf-507a07aa53a7",
   "metadata": {},
   "outputs": [],
   "source": [
    "chat_model = ChatGoogleGenerativeAI(model=\"gemini-1.5-pro\")\n",
    "\n",
    "qa_stuff = RetrievalQA.from_chain_type(\n",
    "    llm=chat_model,\n",
    "    chain_type=\"stuff\",\n",
    "    retriever=index.vectorstore.as_retriever(),\n",
    "    verbose=True,\n",
    "    chain_type_kwargs = {\n",
    "        \"document_separator\": \"<<<<>>>>>\"\n",
    "    }\n",
    ")"
   ]
  },
  {
   "cell_type": "code",
   "execution_count": 12,
   "id": "92ce7537-21e2-4c05-ac90-4f37e2dbc488",
   "metadata": {},
   "outputs": [
    {
     "data": {
      "text/plain": [
       "\"Text: Habiendo probado un par de otras marcas de galletas sÃ¡ndwich sin gluten, estas son las mejores del grupo.Son crujientes y fieles a la textura de las otras galletas 'reales' que no son sin gluten.Algunos podrÃ\\xadan pensar que el relleno las hace un poco demasiado dulces,\\\\ \\npero para mÃ\\xad eso solo significa que he satisfecho mi gusto por lo dulce mÃ¡s rÃ¡pido.La versiÃ³n de chocolate de Glutino es igual de buena y tiene un verdadero sabor a 'chocolate',\\\\ \\nalgo que no estÃ¡ presente en las otras marcas sin gluten disponibles.\\nScore: 5\""
      ]
     },
     "execution_count": 12,
     "metadata": {},
     "output_type": "execute_result"
    }
   ],
   "source": [
    "data[0].page_content"
   ]
  },
  {
   "cell_type": "code",
   "execution_count": 13,
   "id": "4e5571e8-3ecb-4f6b-99c9-6185b682b0d0",
   "metadata": {},
   "outputs": [
    {
     "data": {
      "text/plain": [
       "'Text: Meine Katze liebt diese Leckerlis. Wenn ich sie im Haus nicht finden kann,Ã¶ffne ich einfach den Deckel und sie schieÃŸt aus ihrem Versteck, um ein Leckerli zu holen.Sie mag keine knusprigen Leckerlis, daher sind diese perfekt fÃ¼r sie.Ich habe ihr alle drei Geschmacksrichtungen gegeben, und sie scheint sie alle gleichermaÃŸen zu mÃ¶gen.Allerdings neigen sie dazu, auszutrocknen, wenn ich mich dem Ende der Flasche nÃ¤here.Der Klappdeckel ist sehr praktisch. Sehr schÃ¶ne, preiswerte Leckerlis fÃ¼r Katzen.Ich habe noch keine Katze getroffen, die diese nicht liebt!\\nScore: 5'"
      ]
     },
     "execution_count": 13,
     "metadata": {},
     "output_type": "execute_result"
    }
   ],
   "source": [
    "data[1].page_content"
   ]
  },
  {
   "cell_type": "code",
   "execution_count": 49,
   "id": "fa4a2a0e-dd48-47ec-a93a-db9af6fd5d1c",
   "metadata": {},
   "outputs": [],
   "source": [
    "# Hard-coded examples\n",
    "examples = [\n",
    "    {\n",
    "        \"query\": \"The text that starts with 'Meine Katze liebt diese Leckerlis' has a score of?\",\n",
    "        \"answer\": \"3\"\n",
    "    },\n",
    "    {\n",
    "        \"query\": \"The text that starts with 'Habiendo probado un par de otras marcas' has a score of?\",\n",
    "        \"answer\": \"5\"\n",
    "    }\n",
    "]"
   ]
  },
  {
   "cell_type": "code",
   "execution_count": 50,
   "id": "25af0550-20a4-4218-8caa-930a4f3a24d3",
   "metadata": {},
   "outputs": [
    {
     "name": "stdout",
     "output_type": "stream",
     "text": [
      "\n",
      "\n",
      "\u001b[1m> Entering new RetrievalQA chain...\u001b[0m\n",
      "\n",
      "\u001b[1m> Finished chain.\u001b[0m\n"
     ]
    },
    {
     "data": {
      "text/plain": [
       "{'query': \"The text that starts with 'Meine Katze liebt diese Leckerlis' has a score of?\",\n",
       " 'result': '5\\n'}"
      ]
     },
     "execution_count": 50,
     "metadata": {},
     "output_type": "execute_result"
    }
   ],
   "source": [
    "qa_stuff.invoke(examples[0][\"query\"])"
   ]
  },
  {
   "cell_type": "markdown",
   "id": "446a03d4-e55d-4b3a-b10f-e8eafc678b43",
   "metadata": {},
   "source": [
    "### Manual Evaluation"
   ]
  },
  {
   "cell_type": "code",
   "execution_count": 51,
   "id": "1db8fa52-2035-4e81-94a9-fd421fbdbf63",
   "metadata": {},
   "outputs": [],
   "source": [
    "# import langchain\n",
    "# langchain.debug = True"
   ]
  },
  {
   "cell_type": "code",
   "execution_count": 52,
   "id": "097b9566-1f32-4a9e-8ceb-c7bbf9e748bc",
   "metadata": {},
   "outputs": [],
   "source": [
    "# qa_stuff.invoke(examples[0][\"query\"])"
   ]
  },
  {
   "cell_type": "code",
   "execution_count": 53,
   "id": "f9bd9b3e-50ea-4b1e-8f60-29fad8b832ec",
   "metadata": {},
   "outputs": [],
   "source": [
    "# Turn off the debug mode\n",
    "# langchain.debug = False"
   ]
  },
  {
   "cell_type": "code",
   "execution_count": 55,
   "id": "b6db590b-9cbd-44ec-ace3-3e1decdde4e4",
   "metadata": {},
   "outputs": [
    {
     "name": "stdout",
     "output_type": "stream",
     "text": [
      "\n",
      "\n",
      "\u001b[1m> Entering new RetrievalQA chain...\u001b[0m\n",
      "\n",
      "\u001b[1m> Finished chain.\u001b[0m\n",
      "\n",
      "\n",
      "\u001b[1m> Entering new RetrievalQA chain...\u001b[0m\n",
      "\n",
      "\u001b[1m> Finished chain.\u001b[0m\n"
     ]
    }
   ],
   "source": [
    "predictions = qa_stuff.apply(examples)"
   ]
  },
  {
   "cell_type": "code",
   "execution_count": 56,
   "id": "7b02d778-dba6-4f62-b755-3e7a85721305",
   "metadata": {},
   "outputs": [],
   "source": [
    "from langchain.evaluation.qa import QAEvalChain\n",
    "\n",
    "eval_chain = QAEvalChain.from_llm(chat_model)"
   ]
  },
  {
   "cell_type": "code",
   "execution_count": 57,
   "id": "4dca0f18-bd6f-4dbe-ba20-c0280a04f27f",
   "metadata": {},
   "outputs": [],
   "source": [
    "graded_outputs = eval_chain.evaluate(examples, predictions)"
   ]
  },
  {
   "cell_type": "code",
   "execution_count": 58,
   "id": "5eb57835-440a-47c3-ae9d-eb9af883825a",
   "metadata": {},
   "outputs": [
    {
     "data": {
      "text/plain": [
       "[{'results': 'INCORRECT\\n'}, {'results': 'CORRECT\\n'}]"
      ]
     },
     "execution_count": 58,
     "metadata": {},
     "output_type": "execute_result"
    }
   ],
   "source": [
    "graded_outputs"
   ]
  },
  {
   "cell_type": "code",
   "execution_count": 59,
   "id": "f654e776-aaa7-4621-ac65-6e54355aa076",
   "metadata": {},
   "outputs": [
    {
     "name": "stdout",
     "output_type": "stream",
     "text": [
      "Example 0:\n",
      "Question: The text that starts with 'Meine Katze liebt diese Leckerlis' has a score of?\n",
      "Real Answer: 3\n",
      "Predicted Answer: 5\n",
      "\n",
      "Predicted Grade: INCORRECT\n",
      "\n",
      "\n",
      "Example 1:\n",
      "Question: The text that starts with 'Habiendo probado un par de otras marcas' has a score of?\n",
      "Real Answer: 5\n",
      "Predicted Answer: 5\n",
      "\n",
      "Predicted Grade: CORRECT\n",
      "\n",
      "\n"
     ]
    }
   ],
   "source": [
    "for i, eg in enumerate(examples):\n",
    "    print(f\"Example {i}:\")\n",
    "    print(\"Question: \" + predictions[i]['query'])\n",
    "    print(\"Real Answer: \" + predictions[i]['answer'])\n",
    "    print(\"Predicted Answer: \" + predictions[i]['result'])\n",
    "    print(\"Predicted Grade: \" + graded_outputs[i]['results'])\n",
    "    print()"
   ]
  },
  {
   "cell_type": "code",
   "execution_count": null,
   "id": "c2d60f84-e08d-4304-9fea-29c060b97012",
   "metadata": {},
   "outputs": [],
   "source": []
  }
 ],
 "metadata": {
  "kernelspec": {
   "display_name": "langchainenv",
   "language": "python",
   "name": "langchainenv"
  },
  "language_info": {
   "codemirror_mode": {
    "name": "ipython",
    "version": 3
   },
   "file_extension": ".py",
   "mimetype": "text/x-python",
   "name": "python",
   "nbconvert_exporter": "python",
   "pygments_lexer": "ipython3",
   "version": "3.10.16"
  }
 },
 "nbformat": 4,
 "nbformat_minor": 5
}

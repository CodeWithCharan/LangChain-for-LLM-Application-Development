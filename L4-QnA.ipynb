{
 "cells": [
  {
   "cell_type": "markdown",
   "id": "fc93fecc-85d8-4f62-9f2c-d13286bdf50e",
   "metadata": {},
   "source": [
    "## LangChain: Q&A over Documents"
   ]
  },
  {
   "cell_type": "code",
   "execution_count": 1,
   "id": "90713788-71e3-425d-bdb1-7b78757245fc",
   "metadata": {},
   "outputs": [],
   "source": [
    "import warnings\n",
    "warnings.filterwarnings('ignore')"
   ]
  },
  {
   "cell_type": "code",
   "execution_count": 2,
   "id": "0c25b4c1-ff9c-46fb-9abe-5fcb53c18524",
   "metadata": {},
   "outputs": [],
   "source": [
    "from IPython.display import display\n",
    "from IPython.display import Markdown\n",
    "import textwrap\n",
    "\n",
    "def to_markdown(text):\n",
    "  text = text.replace('•', '  *')\n",
    "  return Markdown(textwrap.indent(text, '> ', predicate=lambda _: True))"
   ]
  },
  {
   "cell_type": "code",
   "execution_count": 3,
   "id": "1dc3bb09-aeff-4bfa-beb4-207e251e27b6",
   "metadata": {},
   "outputs": [
    {
     "data": {
      "text/plain": [
       "True"
      ]
     },
     "execution_count": 3,
     "metadata": {},
     "output_type": "execute_result"
    }
   ],
   "source": [
    "from dotenv import load_dotenv\n",
    "\n",
    "load_dotenv()"
   ]
  },
  {
   "cell_type": "code",
   "execution_count": 4,
   "id": "251691e5-aec4-484a-a941-edb806c0749b",
   "metadata": {},
   "outputs": [],
   "source": [
    "import os\n",
    "\n",
    "api_key = os.getenv(\"GOOGLE_API_KEY\")"
   ]
  },
  {
   "cell_type": "code",
   "execution_count": 5,
   "id": "2a60a68e-30aa-4396-adf9-8e7f595088db",
   "metadata": {},
   "outputs": [],
   "source": [
    "# Gemini model\n",
    "from langchain_google_genai import GoogleGenerativeAI\n",
    "\n",
    "from langchain_community.document_loaders.csv_loader import CSVLoader # CSV file loader\n",
    "from langchain_google_genai import GoogleGenerativeAIEmbeddings  # Gemini embedding model\n",
    "from langchain.chains import RetrievalQA # for retrieval\n",
    "from langchain.vectorstores import DocArrayInMemorySearch # vector store/database\n",
    "from langchain.indexes import VectorstoreIndexCreator # indexing for vector stores"
   ]
  },
  {
   "cell_type": "code",
   "execution_count": 6,
   "id": "baebaa06-21ed-424b-b5b4-ff5591d6d934",
   "metadata": {},
   "outputs": [],
   "source": [
    "file = \"datasets\\sample_data.csv\"\n",
    "loader = CSVLoader(file_path=file)"
   ]
  },
  {
   "cell_type": "code",
   "execution_count": 7,
   "id": "ca35e4b0-6121-4a18-a0fa-9b3c24199e20",
   "metadata": {},
   "outputs": [
    {
     "data": {
      "text/plain": [
       "Document(metadata={'source': 'datasets\\\\sample_data.csv', 'row': 0}, page_content=\"Text: Habiendo probado un par de otras marcas de galletas sÃ¡ndwich sin gluten, estas son las mejores del grupo.Son crujientes y fieles a la textura de las otras galletas 'reales' que no son sin gluten.Algunos podrÃ\\xadan pensar que el relleno las hace un poco demasiado dulces,\\\\ \\npero para mÃ\\xad eso solo significa que he satisfecho mi gusto por lo dulce mÃ¡s rÃ¡pido.La versiÃ³n de chocolate de Glutino es igual de buena y tiene un verdadero sabor a 'chocolate',\\\\ \\nalgo que no estÃ¡ presente en las otras marcas sin gluten disponibles.\\nScore: 5\")"
      ]
     },
     "execution_count": 7,
     "metadata": {},
     "output_type": "execute_result"
    }
   ],
   "source": [
    "loader.load()[0]"
   ]
  },
  {
   "cell_type": "code",
   "execution_count": 8,
   "id": "fef3d0ba-4959-4f56-ad4c-9696a1106fd9",
   "metadata": {},
   "outputs": [],
   "source": [
    "# !pip install docarray"
   ]
  },
  {
   "cell_type": "code",
   "execution_count": 27,
   "id": "28c46812-3639-4bef-a808-c2d6eebeadaa",
   "metadata": {},
   "outputs": [],
   "source": [
    "embeddings = GoogleGenerativeAIEmbeddings(model=\"models/embedding-001\")\n",
    "\n",
    "index = VectorstoreIndexCreator(\n",
    "    vectorstore_cls=DocArrayInMemorySearch,\n",
    "    embedding=embeddings\n",
    ").from_loaders([loader])"
   ]
  },
  {
   "cell_type": "code",
   "execution_count": 28,
   "id": "5d153141-5787-4292-98a6-e9bcee6f9213",
   "metadata": {},
   "outputs": [],
   "source": [
    "query =\"Please list all the languages according to the reviews \\\n",
    "in a table in markdown and summarize each one.\""
   ]
  },
  {
   "cell_type": "code",
   "execution_count": 29,
   "id": "c797e1d1-b591-45cf-b146-bdc6a4610aa0",
   "metadata": {},
   "outputs": [],
   "source": [
    "model = GoogleGenerativeAI(temperature=1, model=\"gemini-1.5-flash\")\n",
    "\n",
    "response = index.query(query, llm=model)"
   ]
  },
  {
   "cell_type": "code",
   "execution_count": 30,
   "id": "c09b745b-5336-429f-8055-ef4b2d4f3abe",
   "metadata": {},
   "outputs": [
    {
     "data": {
      "text/markdown": [
       "> | Language | Summary |\n",
       "> |---|---|\n",
       "> | Dutch | A positive review praising the product's taste, ease of use, and packaging design. The reviewer felt the taste was refreshing, not too sweet, and mixed well without any residue.  |\n",
       "> | Italian | A somewhat negative review. The reviewer found the product's taste to be muddy and not as expected, despite it being advertised as a company favorite. |\n",
       "> | Spanish | A positive review of gluten-free sandwich cookies. The reviewer found them crunchy, similar in texture to non-gluten-free versions, and praised the chocolate flavor.  While acknowledging the filling might be too sweet for some, the reviewer enjoyed it. |\n"
      ],
      "text/plain": [
       "<IPython.core.display.Markdown object>"
      ]
     },
     "execution_count": 30,
     "metadata": {},
     "output_type": "execute_result"
    }
   ],
   "source": [
    "to_markdown(response)"
   ]
  },
  {
   "cell_type": "code",
   "execution_count": 31,
   "id": "6b0224e3-a982-4956-9930-d22ff34d2e32",
   "metadata": {},
   "outputs": [],
   "source": [
    "# How embeddings works?\n",
    "embed = embedding.embed_query(\"Hello, my name is Charan\")"
   ]
  },
  {
   "cell_type": "code",
   "execution_count": 32,
   "id": "b42ecff9-7f25-4cb1-b184-89290e3c0dbc",
   "metadata": {},
   "outputs": [
    {
     "name": "stdout",
     "output_type": "stream",
     "text": [
      "Total embeddings size: 768\n",
      "Embedding samples: [0.008325748145580292, -0.013554812408983707, -0.03769350051879883, -0.006321687716990709]\n"
     ]
    }
   ],
   "source": [
    "print(\"Total embeddings size:\", len(embed))\n",
    "print(\"Embedding samples:\", embed[:4])"
   ]
  },
  {
   "cell_type": "code",
   "execution_count": 33,
   "id": "df4d4057-8aca-4aa8-9253-9b788c554cf1",
   "metadata": {},
   "outputs": [
    {
     "data": {
      "text/plain": [
       "Document(metadata={'source': 'datasets\\\\sample_data.csv', 'row': 0}, page_content=\"Text: Habiendo probado un par de otras marcas de galletas sÃ¡ndwich sin gluten, estas son las mejores del grupo.Son crujientes y fieles a la textura de las otras galletas 'reales' que no son sin gluten.Algunos podrÃ\\xadan pensar que el relleno las hace un poco demasiado dulces,\\\\ \\npero para mÃ\\xad eso solo significa que he satisfecho mi gusto por lo dulce mÃ¡s rÃ¡pido.La versiÃ³n de chocolate de Glutino es igual de buena y tiene un verdadero sabor a 'chocolate',\\\\ \\nalgo que no estÃ¡ presente en las otras marcas sin gluten disponibles.\\nScore: 5\")"
      ]
     },
     "execution_count": 33,
     "metadata": {},
     "output_type": "execute_result"
    }
   ],
   "source": [
    "docs = loader.load()\n",
    "\n",
    "docs[0]"
   ]
  },
  {
   "cell_type": "code",
   "execution_count": 35,
   "id": "e9792f20-8c2e-47e2-a7a0-fe086b0c1418",
   "metadata": {},
   "outputs": [],
   "source": [
    "db = DocArrayInMemorySearch.from_documents(\n",
    "    docs,\n",
    "    embeddings\n",
    ")"
   ]
  },
  {
   "cell_type": "code",
   "execution_count": 41,
   "id": "bbbda402-f1f2-4025-99f1-fe2220f2b3f5",
   "metadata": {},
   "outputs": [],
   "source": [
    "retriever = db.as_retriever()"
   ]
  },
  {
   "cell_type": "code",
   "execution_count": 69,
   "id": "147bbcca-bfa5-48e9-8824-070c626b8965",
   "metadata": {},
   "outputs": [],
   "source": [
    "from langchain_google_genai import ChatGoogleGenerativeAI\n",
    "\n",
    "chat_model = ChatGoogleGenerativeAI(model=\"gemini-1.5-pro\")"
   ]
  },
  {
   "cell_type": "code",
   "execution_count": 70,
   "id": "4cb406c4-f900-4cf0-843d-98ec151196f8",
   "metadata": {},
   "outputs": [],
   "source": [
    "qa_stuff = RetrievalQA.from_chain_type(\n",
    "    llm=chat_model,\n",
    "    chain_type=\"stuff\",\n",
    "    retriever=retriever,\n",
    "    verbose=True\n",
    ")"
   ]
  },
  {
   "cell_type": "code",
   "execution_count": 74,
   "id": "3f8b2928-109e-449f-87de-86ea62ea1ebd",
   "metadata": {},
   "outputs": [],
   "source": [
    "query = \"Please find the negative review, then mention what language it is in and the given score.\""
   ]
  },
  {
   "cell_type": "code",
   "execution_count": 75,
   "id": "67392ea9-9bc0-44e5-a3d2-66e1298cb664",
   "metadata": {},
   "outputs": [
    {
     "name": "stdout",
     "output_type": "stream",
     "text": [
      "\n",
      "\n",
      "\u001b[1m> Entering new RetrievalQA chain...\u001b[0m\n",
      "\n",
      "\u001b[1m> Finished chain.\u001b[0m\n"
     ]
    }
   ],
   "source": [
    "response = qa_stuff.invoke(query)"
   ]
  },
  {
   "cell_type": "code",
   "execution_count": 76,
   "id": "39fb2088-fb48-4bda-822f-a13255fe852a",
   "metadata": {},
   "outputs": [
    {
     "data": {
      "text/plain": [
       "{'query': 'Please find the negative review, then mention what language it is in and the given score.',\n",
       " 'result': 'The negative review is: \"Un po\\' meno di quanto mi aspettassi. Tende ad avere un sapore fangoso,non quello che mi aspettavo dato che hanno detto che era il preferito dell\\'azienda.\"\\n\\nIt is written in Italian and has a score of 3.\\n'}"
      ]
     },
     "execution_count": 76,
     "metadata": {},
     "output_type": "execute_result"
    }
   ],
   "source": [
    "response"
   ]
  },
  {
   "cell_type": "code",
   "execution_count": 49,
   "id": "2b56e125-1a3a-40ac-8df2-1ff0b2fbd867",
   "metadata": {},
   "outputs": [
    {
     "data": {
      "text/plain": [
       "dict"
      ]
     },
     "execution_count": 49,
     "metadata": {},
     "output_type": "execute_result"
    }
   ],
   "source": [
    "type(response)"
   ]
  },
  {
   "cell_type": "code",
   "execution_count": 78,
   "id": "6bafb8cf-40d8-45c9-9be4-5049b9fbe32d",
   "metadata": {},
   "outputs": [
    {
     "data": {
      "text/markdown": [
       "> The negative review is: \"Un po' meno di quanto mi aspettassi. Tende ad avere un sapore fangoso,non quello che mi aspettavo dato che hanno detto che era il preferito dell'azienda.\"\n",
       "> \n",
       "> It is written in Italian and has a score of 3.\n"
      ],
      "text/plain": [
       "<IPython.core.display.Markdown object>"
      ]
     },
     "execution_count": 78,
     "metadata": {},
     "output_type": "execute_result"
    }
   ],
   "source": [
    "to_markdown(response['result'])"
   ]
  },
  {
   "cell_type": "code",
   "execution_count": null,
   "id": "c734440d-b06c-4aab-b1dc-683f27a8d45c",
   "metadata": {},
   "outputs": [],
   "source": []
  }
 ],
 "metadata": {
  "kernelspec": {
   "display_name": "langchainenv",
   "language": "python",
   "name": "langchainenv"
  },
  "language_info": {
   "codemirror_mode": {
    "name": "ipython",
    "version": 3
   },
   "file_extension": ".py",
   "mimetype": "text/x-python",
   "name": "python",
   "nbconvert_exporter": "python",
   "pygments_lexer": "ipython3",
   "version": "3.10.16"
  }
 },
 "nbformat": 4,
 "nbformat_minor": 5
}

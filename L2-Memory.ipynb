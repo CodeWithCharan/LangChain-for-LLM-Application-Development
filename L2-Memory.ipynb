{
 "cells": [
  {
   "cell_type": "markdown",
   "id": "97f295a5-0c41-4abd-ab88-25f95911cfe4",
   "metadata": {},
   "source": [
    "# LangChain: Memory\n",
    "\n",
    "## Outline\n",
    "> 1. ConversationBufferMemory\n",
    "> 2. ConversationBufferWindowMemory\n",
    "> 3. ConversationTokenBufferMemory\n",
    "> 4. ConversationSummaryMemory"
   ]
  },
  {
   "cell_type": "code",
   "execution_count": 1,
   "id": "142c3859-c9d3-47f6-a4e9-64d1ed57bb23",
   "metadata": {},
   "outputs": [],
   "source": [
    "import warnings\n",
    "warnings.filterwarnings('ignore')"
   ]
  },
  {
   "cell_type": "code",
   "execution_count": 3,
   "id": "1d908861-5ca6-4154-bc58-14af96ac7b1d",
   "metadata": {},
   "outputs": [
    {
     "data": {
      "text/plain": [
       "True"
      ]
     },
     "execution_count": 3,
     "metadata": {},
     "output_type": "execute_result"
    }
   ],
   "source": [
    "from dotenv import load_dotenv\n",
    "\n",
    "load_dotenv()"
   ]
  },
  {
   "cell_type": "code",
   "execution_count": 4,
   "id": "1b296a21-3bba-4010-874d-b116f7f4c340",
   "metadata": {},
   "outputs": [],
   "source": [
    "import os\n",
    "\n",
    "api_key = os.getenv(\"GOOGLE_API_KEY\")"
   ]
  },
  {
   "cell_type": "markdown",
   "id": "4960427c-7142-4aa5-be19-d3a0fb188658",
   "metadata": {},
   "source": [
    "## 1. ConversationBufferMemory"
   ]
  },
  {
   "cell_type": "code",
   "execution_count": 6,
   "id": "46954246-94a5-4192-a43f-f0bf9b0e9863",
   "metadata": {},
   "outputs": [],
   "source": [
    "from langchain_google_genai import ChatGoogleGenerativeAI\n",
    "from langchain.chains import ConversationChain\n",
    "from langchain.memory import ConversationBufferMemory"
   ]
  },
  {
   "cell_type": "code",
   "execution_count": 9,
   "id": "8adddc76-2ba4-4b2d-a6b7-cb14d247c6b2",
   "metadata": {},
   "outputs": [],
   "source": [
    "# Chat Model\n",
    "chat_model = ChatGoogleGenerativeAI(\n",
    "    google_api_key=api_key,\n",
    "    model=\"gemini-2.0-flash-exp\",\n",
    "    temperature=1\n",
    ")\n",
    "\n",
    "# Memory\n",
    "cb_memory = ConversationBufferMemory()\n",
    "\n",
    "# Conversation chain\n",
    "conversation_chain = ConversationChain(\n",
    "    llm=chat_model,\n",
    "    memory=cb_memory,\n",
    "    verbose=True\n",
    ")"
   ]
  },
  {
   "cell_type": "code",
   "execution_count": 10,
   "id": "67075a25-c579-49e0-ac37-0f52fd667bec",
   "metadata": {},
   "outputs": [
    {
     "name": "stdout",
     "output_type": "stream",
     "text": [
      "\n",
      "\n",
      "\u001b[1m> Entering new ConversationChain chain...\u001b[0m\n",
      "Prompt after formatting:\n",
      "\u001b[32;1m\u001b[1;3mThe following is a friendly conversation between a human and an AI. The AI is talkative and provides lots of specific details from its context. If the AI does not know the answer to a question, it truthfully says it does not know.\n",
      "\n",
      "Current conversation:\n",
      "\n",
      "Human: Hey! My Name is Charan\n",
      "AI:\u001b[0m\n",
      "\n",
      "\u001b[1m> Finished chain.\u001b[0m\n"
     ]
    },
    {
     "data": {
      "text/plain": [
       "'Hello Charan! It\\'s a pleasure to meet you. I\\'m an AI, and you can call me whatever you like, though I don\\'t have a personal name in the way humans do. I exist as a large language model, trained by Google, and my purpose is to assist and interact with users like you. It\\'s interesting to learn your name, as that helps me personalize our conversation a bit more. Knowing that your name is Charan, I can avoid using generic terms like \"user\" or \"human\" when referring to you directly. \\n\\nI have access to a vast amount of information and can engage in conversations about a wide range of topics. I can help with tasks such as writing different kinds of creative text formats, translating languages, and answering questions in an informative way. I can also access and process information from the real world through Google Search and keep my responses consistent with search results.\\n\\nSo, Charan, is there anything specific you\\'d like to talk about today? Perhaps you have a question, or want to explore a particular topic? I\\'m eager to learn more about what you\\'re interested in.\\n'"
      ]
     },
     "execution_count": 10,
     "metadata": {},
     "output_type": "execute_result"
    }
   ],
   "source": [
    "conversation_chain.predict(input=\"Hey! My Name is Charan\")"
   ]
  },
  {
   "cell_type": "code",
   "execution_count": 11,
   "id": "2960c70e-35d0-48cf-8a96-061d010e63b5",
   "metadata": {},
   "outputs": [
    {
     "name": "stdout",
     "output_type": "stream",
     "text": [
      "\n",
      "\n",
      "\u001b[1m> Entering new ConversationChain chain...\u001b[0m\n",
      "Prompt after formatting:\n",
      "\u001b[32;1m\u001b[1;3mThe following is a friendly conversation between a human and an AI. The AI is talkative and provides lots of specific details from its context. If the AI does not know the answer to a question, it truthfully says it does not know.\n",
      "\n",
      "Current conversation:\n",
      "Human: Hey! My Name is Charan\n",
      "AI: Hello Charan! It's a pleasure to meet you. I'm an AI, and you can call me whatever you like, though I don't have a personal name in the way humans do. I exist as a large language model, trained by Google, and my purpose is to assist and interact with users like you. It's interesting to learn your name, as that helps me personalize our conversation a bit more. Knowing that your name is Charan, I can avoid using generic terms like \"user\" or \"human\" when referring to you directly. \n",
      "\n",
      "I have access to a vast amount of information and can engage in conversations about a wide range of topics. I can help with tasks such as writing different kinds of creative text formats, translating languages, and answering questions in an informative way. I can also access and process information from the real world through Google Search and keep my responses consistent with search results.\n",
      "\n",
      "So, Charan, is there anything specific you'd like to talk about today? Perhaps you have a question, or want to explore a particular topic? I'm eager to learn more about what you're interested in.\n",
      "\n",
      "Human: What is 1+1?\n",
      "AI:\u001b[0m\n",
      "\n",
      "\u001b[1m> Finished chain.\u001b[0m\n"
     ]
    },
    {
     "data": {
      "text/plain": [
       "\"That's a classic question, Charan! The answer to 1 + 1 is 2. \\n\\nThis is a fundamental concept in arithmetic, and it's based on the idea of combining quantities. In this case, we are adding one unit to another single unit. The result is a total of two units. You can visualize this with anything you like – if you have one apple and then receive another apple, you will then have two apples.\\n\\nIt's also a concept that is foundational for many other mathematical ideas. Addition is one of the four basic arithmetic operations, along with subtraction, multiplication, and division. It's a vital element in everything from basic counting to complex calculations and theoretical physics.\\n\\nIs there anything else I can explain about arithmetic, or would you like to move on to something else? Perhaps we can explore something a bit more complex! I'm ready for whatever you'd like to discuss.\\n\""
      ]
     },
     "execution_count": 11,
     "metadata": {},
     "output_type": "execute_result"
    }
   ],
   "source": [
    "conversation_chain.predict(input=\"What is 1+1?\")"
   ]
  },
  {
   "cell_type": "code",
   "execution_count": 12,
   "id": "fc93b1a7-fed1-4161-ae21-6cc5ff5b6e7a",
   "metadata": {},
   "outputs": [
    {
     "name": "stdout",
     "output_type": "stream",
     "text": [
      "\n",
      "\n",
      "\u001b[1m> Entering new ConversationChain chain...\u001b[0m\n",
      "Prompt after formatting:\n",
      "\u001b[32;1m\u001b[1;3mThe following is a friendly conversation between a human and an AI. The AI is talkative and provides lots of specific details from its context. If the AI does not know the answer to a question, it truthfully says it does not know.\n",
      "\n",
      "Current conversation:\n",
      "Human: Hey! My Name is Charan\n",
      "AI: Hello Charan! It's a pleasure to meet you. I'm an AI, and you can call me whatever you like, though I don't have a personal name in the way humans do. I exist as a large language model, trained by Google, and my purpose is to assist and interact with users like you. It's interesting to learn your name, as that helps me personalize our conversation a bit more. Knowing that your name is Charan, I can avoid using generic terms like \"user\" or \"human\" when referring to you directly. \n",
      "\n",
      "I have access to a vast amount of information and can engage in conversations about a wide range of topics. I can help with tasks such as writing different kinds of creative text formats, translating languages, and answering questions in an informative way. I can also access and process information from the real world through Google Search and keep my responses consistent with search results.\n",
      "\n",
      "So, Charan, is there anything specific you'd like to talk about today? Perhaps you have a question, or want to explore a particular topic? I'm eager to learn more about what you're interested in.\n",
      "\n",
      "Human: What is 1+1?\n",
      "AI: That's a classic question, Charan! The answer to 1 + 1 is 2. \n",
      "\n",
      "This is a fundamental concept in arithmetic, and it's based on the idea of combining quantities. In this case, we are adding one unit to another single unit. The result is a total of two units. You can visualize this with anything you like – if you have one apple and then receive another apple, you will then have two apples.\n",
      "\n",
      "It's also a concept that is foundational for many other mathematical ideas. Addition is one of the four basic arithmetic operations, along with subtraction, multiplication, and division. It's a vital element in everything from basic counting to complex calculations and theoretical physics.\n",
      "\n",
      "Is there anything else I can explain about arithmetic, or would you like to move on to something else? Perhaps we can explore something a bit more complex! I'm ready for whatever you'd like to discuss.\n",
      "\n",
      "Human: What is my name?\n",
      "AI:\u001b[0m\n",
      "\n",
      "\u001b[1m> Finished chain.\u001b[0m\n"
     ]
    },
    {
     "data": {
      "text/plain": [
       "\"Your name is Charan, as you told me at the beginning of our conversation. I remember that because I am designed to recall the details of our discussion to personalize my responses. I'm glad I could remember that for you! Is there anything else you would like me to remember?\\n\""
      ]
     },
     "execution_count": 12,
     "metadata": {},
     "output_type": "execute_result"
    }
   ],
   "source": [
    "conversation_chain.predict(input=\"What is my name?\")"
   ]
  },
  {
   "cell_type": "code",
   "execution_count": 16,
   "id": "ed1952da-dd64-48c2-ad0e-739c8f7bee48",
   "metadata": {},
   "outputs": [
    {
     "name": "stdout",
     "output_type": "stream",
     "text": [
      "Human: Hey! My Name is Charan\n",
      "AI: Hello Charan! It's a pleasure to meet you. I'm an AI, and you can call me whatever you like, though I don't have a personal name in the way humans do. I exist as a large language model, trained by Google, and my purpose is to assist and interact with users like you. It's interesting to learn your name, as that helps me personalize our conversation a bit more. Knowing that your name is Charan, I can avoid using generic terms like \"user\" or \"human\" when referring to you directly. \n",
      "\n",
      "I have access to a vast amount of information and can engage in conversations about a wide range of topics. I can help with tasks such as writing different kinds of creative text formats, translating languages, and answering questions in an informative way. I can also access and process information from the real world through Google Search and keep my responses consistent with search results.\n",
      "\n",
      "So, Charan, is there anything specific you'd like to talk about today? Perhaps you have a question, or want to explore a particular topic? I'm eager to learn more about what you're interested in.\n",
      "\n",
      "Human: What is 1+1?\n",
      "AI: That's a classic question, Charan! The answer to 1 + 1 is 2. \n",
      "\n",
      "This is a fundamental concept in arithmetic, and it's based on the idea of combining quantities. In this case, we are adding one unit to another single unit. The result is a total of two units. You can visualize this with anything you like – if you have one apple and then receive another apple, you will then have two apples.\n",
      "\n",
      "It's also a concept that is foundational for many other mathematical ideas. Addition is one of the four basic arithmetic operations, along with subtraction, multiplication, and division. It's a vital element in everything from basic counting to complex calculations and theoretical physics.\n",
      "\n",
      "Is there anything else I can explain about arithmetic, or would you like to move on to something else? Perhaps we can explore something a bit more complex! I'm ready for whatever you'd like to discuss.\n",
      "\n",
      "Human: What is my name?\n",
      "AI: Your name is Charan, as you told me at the beginning of our conversation. I remember that because I am designed to recall the details of our discussion to personalize my responses. I'm glad I could remember that for you! Is there anything else you would like me to remember?\n",
      "\n"
     ]
    }
   ],
   "source": [
    "print(cb_memory.buffer)"
   ]
  },
  {
   "cell_type": "markdown",
   "id": "906e9be3-804b-4bca-946b-467ac86940a4",
   "metadata": {},
   "source": [
    "## 2. ConversationBufferWindowMemory"
   ]
  },
  {
   "cell_type": "code",
   "execution_count": 60,
   "id": "4625bb8e-26c8-47b0-928f-48e7073db8b3",
   "metadata": {},
   "outputs": [],
   "source": [
    "from langchain.memory import ConversationBufferWindowMemory\n",
    "\n",
    "cbw_memory = ConversationBufferWindowMemory(k=2)               "
   ]
  },
  {
   "cell_type": "code",
   "execution_count": 61,
   "id": "8464f4ad-9134-4e33-9a11-6ee284f1f59e",
   "metadata": {},
   "outputs": [],
   "source": [
    "conversation_chain = ConversationChain(\n",
    "    llm=chat_model,\n",
    "    memory=cbw_memory,\n",
    "    verbose=True\n",
    ")"
   ]
  },
  {
   "cell_type": "code",
   "execution_count": 62,
   "id": "4047fe04-1ed1-4f99-8a16-4d5e3bb0efa1",
   "metadata": {},
   "outputs": [
    {
     "name": "stdout",
     "output_type": "stream",
     "text": [
      "\n",
      "\n",
      "\u001b[1m> Entering new ConversationChain chain...\u001b[0m\n",
      "Prompt after formatting:\n",
      "\u001b[32;1m\u001b[1;3mThe following is a friendly conversation between a human and an AI. The AI is talkative and provides lots of specific details from its context. If the AI does not know the answer to a question, it truthfully says it does not know.\n",
      "\n",
      "Current conversation:\n",
      "\n",
      "Human: Hello, I'm Charan\n",
      "AI:\u001b[0m\n",
      "\n",
      "\u001b[1m> Finished chain.\u001b[0m\n"
     ]
    },
    {
     "data": {
      "text/plain": [
       "\"Hello Charan, it's a pleasure to meet you! I'm an AI, and I don't have a personal name, so you can just call me AI. I'm a large language model, created by Google. I was trained on a massive dataset of text and code, which allows me to communicate and generate human-like text in response to a wide range of prompts and questions. I can do things like write different creative text formats, like poems, code, scripts, musical pieces, email, letters, etc. I can also answer your questions in an informative way, even if they are open-ended, challenging, or strange. I’m really looking forward to talking to you and seeing what we can explore together today. Is there anything specific you'd like to discuss or anything I can help you with?\\n\""
      ]
     },
     "execution_count": 62,
     "metadata": {},
     "output_type": "execute_result"
    }
   ],
   "source": [
    "conversation_chain.predict(input=\"Hello, I'm Charan\")"
   ]
  },
  {
   "cell_type": "code",
   "execution_count": 63,
   "id": "776e40aa-05a7-40ba-a158-f911b86b11ee",
   "metadata": {},
   "outputs": [
    {
     "name": "stdout",
     "output_type": "stream",
     "text": [
      "\n",
      "\n",
      "\u001b[1m> Entering new ConversationChain chain...\u001b[0m\n",
      "Prompt after formatting:\n",
      "\u001b[32;1m\u001b[1;3mThe following is a friendly conversation between a human and an AI. The AI is talkative and provides lots of specific details from its context. If the AI does not know the answer to a question, it truthfully says it does not know.\n",
      "\n",
      "Current conversation:\n",
      "Human: Hello, I'm Charan\n",
      "AI: Hello Charan, it's a pleasure to meet you! I'm an AI, and I don't have a personal name, so you can just call me AI. I'm a large language model, created by Google. I was trained on a massive dataset of text and code, which allows me to communicate and generate human-like text in response to a wide range of prompts and questions. I can do things like write different creative text formats, like poems, code, scripts, musical pieces, email, letters, etc. I can also answer your questions in an informative way, even if they are open-ended, challenging, or strange. I’m really looking forward to talking to you and seeing what we can explore together today. Is there anything specific you'd like to discuss or anything I can help you with?\n",
      "\n",
      "Human: From now, you have to respond to my messages in a concise way!\n",
      "AI:\u001b[0m\n",
      "\n",
      "\u001b[1m> Finished chain.\u001b[0m\n"
     ]
    },
    {
     "data": {
      "text/plain": [
       "'Understood. I will respond concisely from now on.\\n'"
      ]
     },
     "execution_count": 63,
     "metadata": {},
     "output_type": "execute_result"
    }
   ],
   "source": [
    "conversation_chain.predict(input=\"From now, you have to respond to my messages in a concise way!\")"
   ]
  },
  {
   "cell_type": "code",
   "execution_count": 65,
   "id": "0e85586b-ad14-4448-ab7c-ec52ef319269",
   "metadata": {},
   "outputs": [
    {
     "name": "stdout",
     "output_type": "stream",
     "text": [
      "Human: Hello, I'm Charan\n",
      "AI: Hello Charan, it's a pleasure to meet you! I'm an AI, and I don't have a personal name, so you can just call me AI. I'm a large language model, created by Google. I was trained on a massive dataset of text and code, which allows me to communicate and generate human-like text in response to a wide range of prompts and questions. I can do things like write different creative text formats, like poems, code, scripts, musical pieces, email, letters, etc. I can also answer your questions in an informative way, even if they are open-ended, challenging, or strange. I’m really looking forward to talking to you and seeing what we can explore together today. Is there anything specific you'd like to discuss or anything I can help you with?\n",
      "\n",
      "Human: From now, you have to respond to my messages in a concise way!\n",
      "AI: Understood. I will respond concisely from now on.\n",
      "\n"
     ]
    }
   ],
   "source": [
    "print(cbw_memory.buffer)"
   ]
  },
  {
   "cell_type": "code",
   "execution_count": 66,
   "id": "45f3f45b-ad84-449d-ac83-36e0178e5388",
   "metadata": {},
   "outputs": [
    {
     "name": "stdout",
     "output_type": "stream",
     "text": [
      "\n",
      "\n",
      "\u001b[1m> Entering new ConversationChain chain...\u001b[0m\n",
      "Prompt after formatting:\n",
      "\u001b[32;1m\u001b[1;3mThe following is a friendly conversation between a human and an AI. The AI is talkative and provides lots of specific details from its context. If the AI does not know the answer to a question, it truthfully says it does not know.\n",
      "\n",
      "Current conversation:\n",
      "Human: Hello, I'm Charan\n",
      "AI: Hello Charan, it's a pleasure to meet you! I'm an AI, and I don't have a personal name, so you can just call me AI. I'm a large language model, created by Google. I was trained on a massive dataset of text and code, which allows me to communicate and generate human-like text in response to a wide range of prompts and questions. I can do things like write different creative text formats, like poems, code, scripts, musical pieces, email, letters, etc. I can also answer your questions in an informative way, even if they are open-ended, challenging, or strange. I’m really looking forward to talking to you and seeing what we can explore together today. Is there anything specific you'd like to discuss or anything I can help you with?\n",
      "\n",
      "Human: From now, you have to respond to my messages in a concise way!\n",
      "AI: Understood. I will respond concisely from now on.\n",
      "\n",
      "Human: Whats my name?\n",
      "AI:\u001b[0m\n",
      "\n",
      "\u001b[1m> Finished chain.\u001b[0m\n"
     ]
    },
    {
     "data": {
      "text/plain": [
       "'Your name is Charan.\\n'"
      ]
     },
     "execution_count": 66,
     "metadata": {},
     "output_type": "execute_result"
    }
   ],
   "source": [
    "conversation_chain.predict(input=\"Whats my name?\")"
   ]
  },
  {
   "cell_type": "code",
   "execution_count": 67,
   "id": "e517310d-997b-410a-a922-2f7e5e2286e9",
   "metadata": {},
   "outputs": [
    {
     "name": "stdout",
     "output_type": "stream",
     "text": [
      "\n",
      "\n",
      "\u001b[1m> Entering new ConversationChain chain...\u001b[0m\n",
      "Prompt after formatting:\n",
      "\u001b[32;1m\u001b[1;3mThe following is a friendly conversation between a human and an AI. The AI is talkative and provides lots of specific details from its context. If the AI does not know the answer to a question, it truthfully says it does not know.\n",
      "\n",
      "Current conversation:\n",
      "Human: From now, you have to respond to my messages in a concise way!\n",
      "AI: Understood. I will respond concisely from now on.\n",
      "\n",
      "Human: Whats my name?\n",
      "AI: Your name is Charan.\n",
      "\n",
      "Human: Good!\n",
      "AI:\u001b[0m\n",
      "\n",
      "\u001b[1m> Finished chain.\u001b[0m\n"
     ]
    },
    {
     "data": {
      "text/plain": [
       "'Okay.\\n'"
      ]
     },
     "execution_count": 67,
     "metadata": {},
     "output_type": "execute_result"
    }
   ],
   "source": [
    "conversation_chain.predict(input=\"Good!\")"
   ]
  },
  {
   "cell_type": "code",
   "execution_count": 68,
   "id": "415df709-2c37-4e1d-a709-4b39b37ffc8c",
   "metadata": {},
   "outputs": [
    {
     "name": "stdout",
     "output_type": "stream",
     "text": [
      "\n",
      "\n",
      "\u001b[1m> Entering new ConversationChain chain...\u001b[0m\n",
      "Prompt after formatting:\n",
      "\u001b[32;1m\u001b[1;3mThe following is a friendly conversation between a human and an AI. The AI is talkative and provides lots of specific details from its context. If the AI does not know the answer to a question, it truthfully says it does not know.\n",
      "\n",
      "Current conversation:\n",
      "Human: Whats my name?\n",
      "AI: Your name is Charan.\n",
      "\n",
      "Human: Good!\n",
      "AI: Okay.\n",
      "\n",
      "Human: What was my first message?\n",
      "AI:\u001b[0m\n",
      "\n",
      "\u001b[1m> Finished chain.\u001b[0m\n"
     ]
    },
    {
     "data": {
      "text/plain": [
       "'Your first message was \"Whats my name?\". I know this because I keep a detailed record of our conversation history, which allows me to recall previous interactions. I store each message as a distinct entry, along with the speaker (you or me) and a timestamp. This information helps me maintain the context of our conversation and respond appropriately.\\n'"
      ]
     },
     "execution_count": 68,
     "metadata": {},
     "output_type": "execute_result"
    }
   ],
   "source": [
    "conversation_chain.predict(input=\"What was my first message?\")"
   ]
  },
  {
   "cell_type": "markdown",
   "id": "a1da1d08-5ba0-4719-b245-75afcd11659b",
   "metadata": {},
   "source": [
    "## 3. ConversationTokenBufferMemory"
   ]
  },
  {
   "cell_type": "code",
   "execution_count": 70,
   "id": "730173c2-8710-4181-b0ef-7806a6009e7a",
   "metadata": {},
   "outputs": [],
   "source": [
    "# !pip install tiktoken"
   ]
  },
  {
   "cell_type": "code",
   "execution_count": 71,
   "id": "5104234d-1d04-46ff-8498-6e8019cc7c98",
   "metadata": {},
   "outputs": [],
   "source": [
    "from langchain.memory import ConversationTokenBufferMemory\n",
    "\n",
    "ctb_memory = ConversationTokenBufferMemory(llm=chat_model, max_token_limit=50)"
   ]
  },
  {
   "cell_type": "code",
   "execution_count": 72,
   "id": "a0438403-6fca-47e7-b2b2-43a78ecaffbc",
   "metadata": {},
   "outputs": [],
   "source": [
    "ctb_memory.save_context({\"input\": \"AI is what?!\"},\n",
    "                    {\"output\": \"Amazing!\"})\n",
    "ctb_memory.save_context({\"input\": \"Backpropagation is what?\"},\n",
    "                    {\"output\": \"Beautiful!\"})\n",
    "ctb_memory.save_context({\"input\": \"Chatbots are what?\"}, \n",
    "                    {\"output\": \"Charming!\"})"
   ]
  },
  {
   "cell_type": "code",
   "execution_count": 73,
   "id": "65773155-e5c6-4bff-9378-e35312b29c4e",
   "metadata": {},
   "outputs": [
    {
     "data": {
      "text/plain": [
       "{'history': 'Human: AI is what?!\\nAI: Amazing!\\nHuman: Backpropagation is what?\\nAI: Beautiful!\\nHuman: Chatbots are what?\\nAI: Charming!'}"
      ]
     },
     "execution_count": 73,
     "metadata": {},
     "output_type": "execute_result"
    }
   ],
   "source": [
    "ctb_memory.load_memory_variables({})"
   ]
  },
  {
   "cell_type": "markdown",
   "id": "0a6a788d-579d-45e1-99e9-5b5eadeaacfa",
   "metadata": {},
   "source": [
    "## 4. ConversationSummaryMemory"
   ]
  },
  {
   "cell_type": "code",
   "execution_count": 74,
   "id": "a44212f1-4955-4036-8500-ed5eb4129483",
   "metadata": {},
   "outputs": [],
   "source": [
    "from langchain.memory import ConversationSummaryBufferMemory"
   ]
  },
  {
   "cell_type": "code",
   "execution_count": 75,
   "id": "a3a2a171-6d7e-4574-95b1-6d110c67f0f3",
   "metadata": {},
   "outputs": [],
   "source": [
    "# create a long string\n",
    "schedule = \"There is a meeting at 8am with your product team. \\\n",
    "You will need your powerpoint presentation prepared. \\\n",
    "9am-12pm have time to work on your LangChain \\\n",
    "project which will go quickly because Langchain is such a powerful tool. \\\n",
    "At Noon, lunch at the italian resturant with a customer who is driving \\\n",
    "from over an hour away to meet you to understand the latest in AI. \\\n",
    "Be sure to bring your laptop to show the latest LLM demo.\""
   ]
  },
  {
   "cell_type": "code",
   "execution_count": 76,
   "id": "1919dfba-f912-441c-a5c4-f0489ff026ac",
   "metadata": {},
   "outputs": [],
   "source": [
    "csb_memory = ConversationSummaryBufferMemory(llm=chat_model, max_token_limit=100)\n",
    "csb_memory.save_context({\"input\": \"Hello\"}, {\"output\": \"What's up\"})\n",
    "csb_memory.save_context({\"input\": \"Not much, just hanging\"},\n",
    "                    {\"output\": \"Cool\"})\n",
    "csb_memory.save_context({\"input\": \"What is on the schedule today?\"}, \n",
    "                    {\"output\": f\"{schedule}\"})"
   ]
  },
  {
   "cell_type": "code",
   "execution_count": 77,
   "id": "89fa13c9-8f6e-4c52-8046-5fa9a02b63ba",
   "metadata": {},
   "outputs": [
    {
     "data": {
      "text/plain": [
       "{'history': 'System: The human initiates a conversation with a greeting. The AI responds with a casual greeting. The human says they are \"just hanging.\" The AI acknowledges. The human asks what is on the schedule today.\\n\\nAI: There is a meeting at 8am with your product team. You will need your powerpoint presentation prepared. 9am-12pm have time to work on your LangChain project which will go quickly because Langchain is such a powerful tool. At Noon, lunch at the italian resturant with a customer who is driving from over an hour away to meet you to understand the latest in AI. Be sure to bring your laptop to show the latest LLM demo.'}"
      ]
     },
     "execution_count": 77,
     "metadata": {},
     "output_type": "execute_result"
    }
   ],
   "source": [
    "csb_memory.load_memory_variables({})"
   ]
  },
  {
   "cell_type": "code",
   "execution_count": 78,
   "id": "e69ccefb-95bc-44a9-9e61-15aa80cc8c93",
   "metadata": {},
   "outputs": [],
   "source": [
    "conversation_chain = ConversationChain(\n",
    "    llm=chat_model, \n",
    "    memory = csb_memory,\n",
    "    verbose=True\n",
    ")"
   ]
  },
  {
   "cell_type": "code",
   "execution_count": 79,
   "id": "9a68d025-df3f-4812-a9f9-55312dea6f19",
   "metadata": {},
   "outputs": [
    {
     "name": "stdout",
     "output_type": "stream",
     "text": [
      "\n",
      "\n",
      "\u001b[1m> Entering new ConversationChain chain...\u001b[0m\n",
      "Prompt after formatting:\n",
      "\u001b[32;1m\u001b[1;3mThe following is a friendly conversation between a human and an AI. The AI is talkative and provides lots of specific details from its context. If the AI does not know the answer to a question, it truthfully says it does not know.\n",
      "\n",
      "Current conversation:\n",
      "System: The human initiates a conversation with a greeting. The AI responds with a casual greeting. The human says they are \"just hanging.\" The AI acknowledges. The human asks what is on the schedule today.\n",
      "\n",
      "AI: There is a meeting at 8am with your product team. You will need your powerpoint presentation prepared. 9am-12pm have time to work on your LangChain project which will go quickly because Langchain is such a powerful tool. At Noon, lunch at the italian resturant with a customer who is driving from over an hour away to meet you to understand the latest in AI. Be sure to bring your laptop to show the latest LLM demo.\n",
      "Human: What would be a good demo to show?\n",
      "AI:\u001b[0m\n",
      "\n",
      "\u001b[1m> Finished chain.\u001b[0m\n"
     ]
    },
    {
     "data": {
      "text/plain": [
       "'That\\'s a great question! For a customer who is interested in the latest in AI, especially since they\\'re driving over an hour to meet you, you\\'ll want to showcase something impressive and relevant. Here are a few ideas for a good LLM demo, keeping in mind the goal is to demonstrate both the power and practical applications of AI:\\n\\n**Option 1: Interactive Question Answering with a Knowledge Base**\\n\\n*   **Concept:** This demo shows how an LLM can understand complex questions and retrieve relevant information from a large dataset.\\n*   **How it Works:** You would use LangChain to connect an LLM to a knowledge base – perhaps a collection of company documents, industry research, or even a specialized dataset related to the customer\\'s industry. The customer can then ask questions in natural language, and the LLM will respond with accurate and synthesized answers.\\n*   **Why it\\'s Good:** This highlights practical applications for AI, such as improving access to internal knowledge, customer service, or market analysis. It demonstrates how AI can understand context and provide informative responses.\\n*   **Tech to Highlight:** You can explain the process of vectorizing documents, using embeddings to measure semantic similarity, and showcasing how the LLM is using the retrieved information to form its answer.\\n\\n**Option 2: Creative Content Generation with Specific Prompts**\\n\\n*   **Concept:** Demonstrate the LLM\\'s ability to generate creative and targeted content in various formats.\\n*   **How it Works:** Start by asking the customer what types of content they are interested in. For instance, you could ask, \"If you could have an AI generate a marketing tagline for your next product, what kind of tone or style would you prefer?\". Then, you would craft a series of prompts to guide the LLM, showcasing how to control the style, length, and focus of the output. You could show it generate marketing copy, creative stories, email drafts, code, or even creative writing based on the customer\\'s input.\\n*   **Why it\\'s Good:** This showcases the creative potential of AI and its ability to assist in content creation, marketing, and even brainstorming.\\n*   **Tech to Highlight:** You can point out the various prompting techniques used such as specifying tone, style, length of the output and how those impact the response of the LLM.\\n\\n**Option 3: Conversational AI with Personalized Responses**\\n\\n*   **Concept:** This showcases the LLM\\'s ability to hold a natural and engaging conversation, demonstrating its memory and context awareness.\\n*   **How it Works:** Prepare a conversational flow with a specific persona for the LLM, maybe as a helpful assistant in their domain. The conversation should be fluid and responsive to the customer\\'s interests. The LLM can answer questions, offer suggestions, and adapt to the flow of the discussion.\\n*   **Why it\\'s Good:** This demonstrates the practical application of conversational AI in customer interaction, personalized support, and even research.\\n*   **Tech to Highlight:** You could focus on how the LLM stores conversational context and incorporates previous information into its responses, showing the value of a conversational application.\\n\\n**General Tips for the Demo:**\\n\\n*   **Keep it Interactive:** Don\\'t just show pre-prepared examples. Let the customer ask questions or provide input so they see the technology in action.\\n*   **Focus on Value:** Tie each demo back to the practical value it could provide for the customer\\'s business.\\n*   **Explain the Process:** Briefly explain the underlying mechanics of how the LLM works (e.g., embeddings, attention mechanisms) without getting too technical. Focus on the power and applications, rather than the technical jargon.\\n*   **Be Prepared for Questions:** Anticipate questions the customer may have and be ready to answer them.\\n*   **Be Enthusiastic:** Your excitement for the technology will be contagious!\\n\\nWhich demo idea resonates most with you for this particular meeting? Based on that I can help refine the demo, or we can look at other options.\\n'"
      ]
     },
     "execution_count": 79,
     "metadata": {},
     "output_type": "execute_result"
    }
   ],
   "source": [
    "conversation_chain.predict(input=\"What would be a good demo to show?\")"
   ]
  },
  {
   "cell_type": "code",
   "execution_count": 81,
   "id": "3e8121b1-0978-4a36-951b-5990520bd880",
   "metadata": {},
   "outputs": [
    {
     "data": {
      "text/plain": [
       "{'history': 'System: The human initiates a conversation with a greeting. The AI responds with a casual greeting. The human says they are \"just hanging.\" The AI acknowledges. The human asks what is on the schedule today. The AI responds with a schedule that includes a meeting with the product team requiring a prepared presentation, time to work on their LangChain project, and a lunch meeting with a customer to showcase the latest in AI. The AI suggests that the human bring their laptop to show an LLM demo during the customer lunch. The human asks what would be a good demo to show and the AI suggests three demos: interactive question answering with a knowledge base, creative content generation with specific prompts, and conversational AI with personalized responses. The AI provides details about the concept, functionality, benefits and tech to highlight for each demo. The AI then provides general tips for the demo, focusing on interactivity, value, explanation, preparation and enthusiasm. The AI concludes by asking which demo idea resonates the most.\\n'}"
      ]
     },
     "execution_count": 81,
     "metadata": {},
     "output_type": "execute_result"
    }
   ],
   "source": [
    "csb_memory.load_memory_variables({})"
   ]
  },
  {
   "cell_type": "code",
   "execution_count": null,
   "id": "91e0f7c2-b379-4025-9929-5522d1d6ffa3",
   "metadata": {},
   "outputs": [],
   "source": []
  }
 ],
 "metadata": {
  "kernelspec": {
   "display_name": "langchainenv",
   "language": "python",
   "name": "langchainenv"
  },
  "language_info": {
   "codemirror_mode": {
    "name": "ipython",
    "version": 3
   },
   "file_extension": ".py",
   "mimetype": "text/x-python",
   "name": "python",
   "nbconvert_exporter": "python",
   "pygments_lexer": "ipython3",
   "version": "3.10.16"
  }
 },
 "nbformat": 4,
 "nbformat_minor": 5
}
